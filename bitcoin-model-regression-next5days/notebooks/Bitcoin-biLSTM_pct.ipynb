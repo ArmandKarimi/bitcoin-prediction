{
 "cells": [
  {
   "cell_type": "markdown",
   "id": "08df2943-3db0-4016-a5c9-e7ea0468f189",
   "metadata": {},
   "source": [
    "## Predicting the PCT% of price of the bitcoin for next day!"
   ]
  },
  {
   "cell_type": "code",
   "execution_count": 3,
   "id": "dd7635de-1ec8-44de-8652-01552f495ce9",
   "metadata": {},
   "outputs": [],
   "source": [
    "%reset -f"
   ]
  },
  {
   "cell_type": "code",
   "execution_count": 4,
   "id": "c518767d-f247-4091-a82d-d8f04b3d27a5",
   "metadata": {},
   "outputs": [],
   "source": [
    "import pandas as pd\n",
    "import numpy as np\n",
    "\n",
    "import yfinance as yf\n",
    "from datetime import datetime\n",
    "\n",
    "import matplotlib.pyplot as plt\n",
    "import seaborn as sns\n",
    "\n",
    "import torch\n",
    "import torch.nn as nn"
   ]
  },
  {
   "cell_type": "markdown",
   "id": "94201338-3683-4762-bfc0-8b3ea66b5358",
   "metadata": {},
   "source": [
    "## Getting Data"
   ]
  },
  {
   "cell_type": "markdown",
   "id": "2f42d875-dcbf-4090-9337-2ad712b6b28a",
   "metadata": {},
   "source": [
    "### Data Loading "
   ]
  },
  {
   "cell_type": "code",
   "execution_count": 27,
   "id": "d21299eb-85f4-4348-8958-7837179abdf9",
   "metadata": {},
   "outputs": [],
   "source": [
    "def load_data(name, start, end):\n",
    "    df = yf.download(name, start, end)\n",
    "    df.columns = df.columns.droplevel('Ticker')\n",
    "    df['pct_close'] = df['Adj Close'].pct_change()\n",
    "    df['label'] = (df['pct_close'] > 0 ).astype('int')\n",
    "    return df[['label','Open', 'High', 'Low', 'Close', 'Volume']]"
   ]
  },
  {
   "cell_type": "code",
   "execution_count": 28,
   "id": "d98d8f72-510e-4274-9831-f1b435c9bedc",
   "metadata": {},
   "outputs": [
    {
     "name": "stderr",
     "output_type": "stream",
     "text": [
      "[*********************100%***********************]  1 of 1 completed\n"
     ]
    }
   ],
   "source": [
    "df = load_data(name = \"BTC-USD\", start = \"2014-01-01\", end = datetime.now())"
   ]
  },
  {
   "cell_type": "code",
   "execution_count": 29,
   "id": "8a035ad3-0a28-4af2-a42d-c97b1b44f2be",
   "metadata": {},
   "outputs": [
    {
     "data": {
      "text/html": [
       "<div>\n",
       "<style scoped>\n",
       "    .dataframe tbody tr th:only-of-type {\n",
       "        vertical-align: middle;\n",
       "    }\n",
       "\n",
       "    .dataframe tbody tr th {\n",
       "        vertical-align: top;\n",
       "    }\n",
       "\n",
       "    .dataframe thead th {\n",
       "        text-align: right;\n",
       "    }\n",
       "</style>\n",
       "<table border=\"1\" class=\"dataframe\">\n",
       "  <thead>\n",
       "    <tr style=\"text-align: right;\">\n",
       "      <th>Price</th>\n",
       "      <th>label</th>\n",
       "      <th>Open</th>\n",
       "      <th>High</th>\n",
       "      <th>Low</th>\n",
       "      <th>Close</th>\n",
       "      <th>Volume</th>\n",
       "    </tr>\n",
       "    <tr>\n",
       "      <th>Date</th>\n",
       "      <th></th>\n",
       "      <th></th>\n",
       "      <th></th>\n",
       "      <th></th>\n",
       "      <th></th>\n",
       "      <th></th>\n",
       "    </tr>\n",
       "  </thead>\n",
       "  <tbody>\n",
       "    <tr>\n",
       "      <th>2014-09-17 00:00:00+00:00</th>\n",
       "      <td>0</td>\n",
       "      <td>465.864014</td>\n",
       "      <td>468.174011</td>\n",
       "      <td>452.421997</td>\n",
       "      <td>457.334015</td>\n",
       "      <td>21056800</td>\n",
       "    </tr>\n",
       "    <tr>\n",
       "      <th>2014-09-18 00:00:00+00:00</th>\n",
       "      <td>0</td>\n",
       "      <td>456.859985</td>\n",
       "      <td>456.859985</td>\n",
       "      <td>413.104004</td>\n",
       "      <td>424.440002</td>\n",
       "      <td>34483200</td>\n",
       "    </tr>\n",
       "    <tr>\n",
       "      <th>2014-09-19 00:00:00+00:00</th>\n",
       "      <td>0</td>\n",
       "      <td>424.102997</td>\n",
       "      <td>427.834991</td>\n",
       "      <td>384.532013</td>\n",
       "      <td>394.795990</td>\n",
       "      <td>37919700</td>\n",
       "    </tr>\n",
       "    <tr>\n",
       "      <th>2014-09-20 00:00:00+00:00</th>\n",
       "      <td>1</td>\n",
       "      <td>394.673004</td>\n",
       "      <td>423.295990</td>\n",
       "      <td>389.882996</td>\n",
       "      <td>408.903992</td>\n",
       "      <td>36863600</td>\n",
       "    </tr>\n",
       "    <tr>\n",
       "      <th>2014-09-21 00:00:00+00:00</th>\n",
       "      <td>0</td>\n",
       "      <td>408.084991</td>\n",
       "      <td>412.425995</td>\n",
       "      <td>393.181000</td>\n",
       "      <td>398.821014</td>\n",
       "      <td>26580100</td>\n",
       "    </tr>\n",
       "    <tr>\n",
       "      <th>...</th>\n",
       "      <td>...</td>\n",
       "      <td>...</td>\n",
       "      <td>...</td>\n",
       "      <td>...</td>\n",
       "      <td>...</td>\n",
       "      <td>...</td>\n",
       "    </tr>\n",
       "    <tr>\n",
       "      <th>2025-01-31 00:00:00+00:00</th>\n",
       "      <td>0</td>\n",
       "      <td>104737.562500</td>\n",
       "      <td>106026.351562</td>\n",
       "      <td>101543.882812</td>\n",
       "      <td>102405.023438</td>\n",
       "      <td>45732764360</td>\n",
       "    </tr>\n",
       "    <tr>\n",
       "      <th>2025-02-01 00:00:00+00:00</th>\n",
       "      <td>0</td>\n",
       "      <td>102402.796875</td>\n",
       "      <td>102755.726562</td>\n",
       "      <td>100297.710938</td>\n",
       "      <td>100655.906250</td>\n",
       "      <td>27757944848</td>\n",
       "    </tr>\n",
       "    <tr>\n",
       "      <th>2025-02-02 00:00:00+00:00</th>\n",
       "      <td>0</td>\n",
       "      <td>100661.539062</td>\n",
       "      <td>101430.664062</td>\n",
       "      <td>96216.078125</td>\n",
       "      <td>97688.976562</td>\n",
       "      <td>63091816853</td>\n",
       "    </tr>\n",
       "    <tr>\n",
       "      <th>2025-02-03 00:00:00+00:00</th>\n",
       "      <td>1</td>\n",
       "      <td>97681.101562</td>\n",
       "      <td>102514.171875</td>\n",
       "      <td>91242.890625</td>\n",
       "      <td>101405.421875</td>\n",
       "      <td>115400897748</td>\n",
       "    </tr>\n",
       "    <tr>\n",
       "      <th>2025-02-04 00:00:00+00:00</th>\n",
       "      <td>0</td>\n",
       "      <td>101469.585938</td>\n",
       "      <td>101708.656250</td>\n",
       "      <td>97963.304688</td>\n",
       "      <td>99090.703125</td>\n",
       "      <td>71696113664</td>\n",
       "    </tr>\n",
       "  </tbody>\n",
       "</table>\n",
       "<p>3794 rows × 6 columns</p>\n",
       "</div>"
      ],
      "text/plain": [
       "Price                      label           Open           High            Low  \\\n",
       "Date                                                                            \n",
       "2014-09-17 00:00:00+00:00      0     465.864014     468.174011     452.421997   \n",
       "2014-09-18 00:00:00+00:00      0     456.859985     456.859985     413.104004   \n",
       "2014-09-19 00:00:00+00:00      0     424.102997     427.834991     384.532013   \n",
       "2014-09-20 00:00:00+00:00      1     394.673004     423.295990     389.882996   \n",
       "2014-09-21 00:00:00+00:00      0     408.084991     412.425995     393.181000   \n",
       "...                          ...            ...            ...            ...   \n",
       "2025-01-31 00:00:00+00:00      0  104737.562500  106026.351562  101543.882812   \n",
       "2025-02-01 00:00:00+00:00      0  102402.796875  102755.726562  100297.710938   \n",
       "2025-02-02 00:00:00+00:00      0  100661.539062  101430.664062   96216.078125   \n",
       "2025-02-03 00:00:00+00:00      1   97681.101562  102514.171875   91242.890625   \n",
       "2025-02-04 00:00:00+00:00      0  101469.585938  101708.656250   97963.304688   \n",
       "\n",
       "Price                              Close        Volume  \n",
       "Date                                                    \n",
       "2014-09-17 00:00:00+00:00     457.334015      21056800  \n",
       "2014-09-18 00:00:00+00:00     424.440002      34483200  \n",
       "2014-09-19 00:00:00+00:00     394.795990      37919700  \n",
       "2014-09-20 00:00:00+00:00     408.903992      36863600  \n",
       "2014-09-21 00:00:00+00:00     398.821014      26580100  \n",
       "...                                  ...           ...  \n",
       "2025-01-31 00:00:00+00:00  102405.023438   45732764360  \n",
       "2025-02-01 00:00:00+00:00  100655.906250   27757944848  \n",
       "2025-02-02 00:00:00+00:00   97688.976562   63091816853  \n",
       "2025-02-03 00:00:00+00:00  101405.421875  115400897748  \n",
       "2025-02-04 00:00:00+00:00   99090.703125   71696113664  \n",
       "\n",
       "[3794 rows x 6 columns]"
      ]
     },
     "execution_count": 29,
     "metadata": {},
     "output_type": "execute_result"
    }
   ],
   "source": [
    "df"
   ]
  },
  {
   "cell_type": "code",
   "execution_count": 30,
   "id": "22023c0a-8169-493b-9c23-bfbef64cfa9e",
   "metadata": {},
   "outputs": [
    {
     "data": {
      "text/html": [
       "<div>\n",
       "<style scoped>\n",
       "    .dataframe tbody tr th:only-of-type {\n",
       "        vertical-align: middle;\n",
       "    }\n",
       "\n",
       "    .dataframe tbody tr th {\n",
       "        vertical-align: top;\n",
       "    }\n",
       "\n",
       "    .dataframe thead th {\n",
       "        text-align: right;\n",
       "    }\n",
       "</style>\n",
       "<table border=\"1\" class=\"dataframe\">\n",
       "  <thead>\n",
       "    <tr style=\"text-align: right;\">\n",
       "      <th>Price</th>\n",
       "      <th>label</th>\n",
       "      <th>Open</th>\n",
       "      <th>High</th>\n",
       "      <th>Low</th>\n",
       "      <th>Close</th>\n",
       "      <th>Volume</th>\n",
       "    </tr>\n",
       "  </thead>\n",
       "  <tbody>\n",
       "    <tr>\n",
       "      <th>count</th>\n",
       "      <td>3794.000000</td>\n",
       "      <td>3794.000000</td>\n",
       "      <td>3794.000000</td>\n",
       "      <td>3794.000000</td>\n",
       "      <td>3794.000000</td>\n",
       "      <td>3.794000e+03</td>\n",
       "    </tr>\n",
       "    <tr>\n",
       "      <th>mean</th>\n",
       "      <td>0.528466</td>\n",
       "      <td>20302.630622</td>\n",
       "      <td>20758.132330</td>\n",
       "      <td>19828.000557</td>\n",
       "      <td>20327.322166</td>\n",
       "      <td>1.892467e+10</td>\n",
       "    </tr>\n",
       "    <tr>\n",
       "      <th>std</th>\n",
       "      <td>0.499255</td>\n",
       "      <td>23298.431029</td>\n",
       "      <td>23806.324472</td>\n",
       "      <td>22775.175835</td>\n",
       "      <td>23329.317536</td>\n",
       "      <td>2.071209e+10</td>\n",
       "    </tr>\n",
       "    <tr>\n",
       "      <th>min</th>\n",
       "      <td>0.000000</td>\n",
       "      <td>176.897003</td>\n",
       "      <td>211.731003</td>\n",
       "      <td>171.509995</td>\n",
       "      <td>178.102997</td>\n",
       "      <td>5.914570e+06</td>\n",
       "    </tr>\n",
       "    <tr>\n",
       "      <th>25%</th>\n",
       "      <td>0.000000</td>\n",
       "      <td>1257.215027</td>\n",
       "      <td>1275.662537</td>\n",
       "      <td>1242.304993</td>\n",
       "      <td>1265.897491</td>\n",
       "      <td>4.807630e+08</td>\n",
       "    </tr>\n",
       "    <tr>\n",
       "      <th>50%</th>\n",
       "      <td>1.000000</td>\n",
       "      <td>9458.936035</td>\n",
       "      <td>9647.977051</td>\n",
       "      <td>9261.046387</td>\n",
       "      <td>9468.167969</td>\n",
       "      <td>1.483846e+10</td>\n",
       "    </tr>\n",
       "    <tr>\n",
       "      <th>75%</th>\n",
       "      <td>1.000000</td>\n",
       "      <td>32136.506836</td>\n",
       "      <td>33318.439453</td>\n",
       "      <td>30943.073242</td>\n",
       "      <td>32171.524902</td>\n",
       "      <td>3.010421e+10</td>\n",
       "    </tr>\n",
       "    <tr>\n",
       "      <th>max</th>\n",
       "      <td>1.000000</td>\n",
       "      <td>106147.296875</td>\n",
       "      <td>109114.882812</td>\n",
       "      <td>105291.734375</td>\n",
       "      <td>106146.265625</td>\n",
       "      <td>3.509679e+11</td>\n",
       "    </tr>\n",
       "  </tbody>\n",
       "</table>\n",
       "</div>"
      ],
      "text/plain": [
       "Price        label           Open           High            Low  \\\n",
       "count  3794.000000    3794.000000    3794.000000    3794.000000   \n",
       "mean      0.528466   20302.630622   20758.132330   19828.000557   \n",
       "std       0.499255   23298.431029   23806.324472   22775.175835   \n",
       "min       0.000000     176.897003     211.731003     171.509995   \n",
       "25%       0.000000    1257.215027    1275.662537    1242.304993   \n",
       "50%       1.000000    9458.936035    9647.977051    9261.046387   \n",
       "75%       1.000000   32136.506836   33318.439453   30943.073242   \n",
       "max       1.000000  106147.296875  109114.882812  105291.734375   \n",
       "\n",
       "Price          Close        Volume  \n",
       "count    3794.000000  3.794000e+03  \n",
       "mean    20327.322166  1.892467e+10  \n",
       "std     23329.317536  2.071209e+10  \n",
       "min       178.102997  5.914570e+06  \n",
       "25%      1265.897491  4.807630e+08  \n",
       "50%      9468.167969  1.483846e+10  \n",
       "75%     32171.524902  3.010421e+10  \n",
       "max    106146.265625  3.509679e+11  "
      ]
     },
     "execution_count": 30,
     "metadata": {},
     "output_type": "execute_result"
    }
   ],
   "source": [
    "df.describe()"
   ]
  },
  {
   "cell_type": "markdown",
   "id": "9ddaa8e5-a94e-4907-82cb-e17bb513a16b",
   "metadata": {},
   "source": [
    "### Data Splitting (Chronological)"
   ]
  },
  {
   "cell_type": "code",
   "execution_count": 31,
   "id": "16a1d9c5-b5de-4bc8-8bfa-31c1c2f68216",
   "metadata": {},
   "outputs": [],
   "source": [
    "def chronological_split(data, ratios = (0.7, 0.2, 0.1)):\n",
    "    n = len(data)\n",
    "    train_end = int(n * ratios[0])\n",
    "    val_end = train_end + int(n * ratios[1])\n",
    "    return data.iloc[:train_end], data.iloc[train_end:val_end], data.iloc[val_end:]"
   ]
  },
  {
   "cell_type": "code",
   "execution_count": 32,
   "id": "99a7500d-329a-48fe-a5b7-7f9305ebd7c2",
   "metadata": {},
   "outputs": [],
   "source": [
    "df_train, df_val, df_test = chronological_split(df)"
   ]
  },
  {
   "cell_type": "code",
   "execution_count": 33,
   "id": "874391c5-d2bd-450e-903b-98a723ec88f9",
   "metadata": {},
   "outputs": [
    {
     "data": {
      "text/plain": [
       "((2655, 6), (758, 6), (381, 6))"
      ]
     },
     "execution_count": 33,
     "metadata": {},
     "output_type": "execute_result"
    }
   ],
   "source": [
    "df_train.shape, df_val.shape, df_test.shape"
   ]
  },
  {
   "cell_type": "markdown",
   "id": "15840a49-056e-4f10-8c9b-30be942867fd",
   "metadata": {},
   "source": [
    "### Data Normalization "
   ]
  },
  {
   "cell_type": "code",
   "execution_count": 34,
   "id": "b31eb3b9-2ce8-41a7-b8f3-b23a29c18a86",
   "metadata": {},
   "outputs": [],
   "source": [
    "\n",
    "\n",
    "def normalize(df_train, df_val, df_test, target_column=\"label\"):\n",
    "    \"\"\"\n",
    "    Normalizes the datasets using the mean and standard deviation from the training set.\n",
    "\n",
    "    Parameters:\n",
    "        df_train (pd.DataFrame): The training data.\n",
    "        df_val (pd.DataFrame): The validation data.\n",
    "        df_test (pd.DataFrame): The test data.\n",
    "        target_column (str): Name of the target column (binary classification).\n",
    "        \n",
    "    Returns:\n",
    "        tuple: (X_train, X_val, X_test, y_train, y_val, y_test, data_mean, data_std)\n",
    "    \"\"\"\n",
    "    # Separate features (X) and target (y)\n",
    "    y_train = df_train[target_column]  # Keep labels separate\n",
    "    y_val = df_val[target_column]\n",
    "    y_test = df_test[target_column]\n",
    "\n",
    "    X_train = df_train.drop(columns=[target_column])\n",
    "    X_val = df_val.drop(columns=[target_column])\n",
    "    X_test = df_test.drop(columns=[target_column])\n",
    "\n",
    "    # Compute normalization statistics on training set only\n",
    "    data_mean = X_train.mean()\n",
    "    data_std = X_train.std()\n",
    "\n",
    "    # Normalize features using training set statistics\n",
    "    X_train = (X_train - data_mean) / data_std\n",
    "    X_val = (X_val - data_mean) / data_std\n",
    "    X_test = (X_test - data_mean) / data_std\n",
    "\n",
    "    return X_train, X_val, X_test, y_train, y_val, y_test, data_mean, data_std"
   ]
  },
  {
   "cell_type": "code",
   "execution_count": 35,
   "id": "65da0941-7637-4dbe-a3f6-fe93408b0703",
   "metadata": {},
   "outputs": [],
   "source": [
    "X_train, X_val, X_test, y_train, y_val, y_test, data_mean, data_std = normalize(df_train, df_val, df_test)"
   ]
  },
  {
   "cell_type": "code",
   "execution_count": 38,
   "id": "cfb88091-ba8e-421a-9e5c-c5471295434d",
   "metadata": {},
   "outputs": [
    {
     "data": {
      "text/plain": [
       "((2655, 5), (758, 5), (381, 5), (2655,), (758,), (381,))"
      ]
     },
     "execution_count": 38,
     "metadata": {},
     "output_type": "execute_result"
    }
   ],
   "source": [
    "X_train.shape, X_val.shape, X_test.shape, y_train.shape, y_val.shape, y_test.shape"
   ]
  },
  {
   "cell_type": "code",
   "execution_count": 85,
   "id": "184d1425-d14b-4897-ac1b-641fe6aa4abb",
   "metadata": {},
   "outputs": [
    {
     "data": {
      "text/plain": [
       "Price\n",
       "Adj Close    1.556895e+04\n",
       "Open         1.555682e+04\n",
       "High         1.598993e+04\n",
       "Low          1.506178e+04\n",
       "Close        1.556895e+04\n",
       "Volume       2.009187e+10\n",
       "dtype: float64"
      ]
     },
     "execution_count": 85,
     "metadata": {},
     "output_type": "execute_result"
    }
   ],
   "source": [
    "data_std"
   ]
  },
  {
   "cell_type": "markdown",
   "id": "eb14aca0-4b9b-4193-ba3c-6095eada288b",
   "metadata": {},
   "source": [
    "### Sequence Generation "
   ]
  },
  {
   "cell_type": "code",
   "execution_count": 87,
   "id": "57393bfb-c710-493b-8b6f-2d979b37a3cc",
   "metadata": {},
   "outputs": [],
   "source": [
    "def create_sequences(data, seq_length=30, pred_length=1):\n",
    "    sequences = []\n",
    "    targets = []\n",
    "    for i in range(len(data) - seq_length - pred_length + 1):\n",
    "        sequences.append(data.iloc[i:i+seq_length].values)\n",
    "        targets.append(data['Adj Close'].iloc[i+seq_length:i+seq_length+pred_length].values)\n",
    "    return torch.tensor(sequences, dtype=torch.float32), torch.tensor(targets, dtype=torch.float32)"
   ]
  },
  {
   "cell_type": "code",
   "execution_count": 88,
   "id": "4a436b93-2d01-4bca-9dbd-0379112500b2",
   "metadata": {},
   "outputs": [],
   "source": [
    "# Create datasets\n",
    "X_train_seq, y_train_seq = create_sequences(X_train)\n",
    "X_val_seq, y_val_seq = create_sequences(X_val)\n",
    "X_test_seq, y_test_seq = create_sequences(X_test)"
   ]
  },
  {
   "cell_type": "code",
   "execution_count": 89,
   "id": "9b2c0b42-23f6-4458-862a-cdddbe7f46dd",
   "metadata": {},
   "outputs": [
    {
     "data": {
      "text/plain": [
       "torch.Size([350, 30, 6])"
      ]
     },
     "execution_count": 89,
     "metadata": {},
     "output_type": "execute_result"
    }
   ],
   "source": [
    "X_test_seq.shape"
   ]
  },
  {
   "cell_type": "code",
   "execution_count": 90,
   "id": "9a7f5e24-f832-4c74-861d-b9c959f7e1ac",
   "metadata": {},
   "outputs": [
    {
     "data": {
      "text/plain": [
       "tensor([-0.6546, -0.6565, -0.6556, -0.6563, -0.6561, -0.6539, -0.6547, -0.6554,\n",
       "        -0.6559, -0.6562, -0.6577, -0.6578, -0.6570, -0.6572, -0.6578, -0.6588,\n",
       "        -0.6608, -0.6613, -0.6607, -0.6603, -0.6592, -0.6584, -0.6587, -0.6586,\n",
       "        -0.6576, -0.6568, -0.6561, -0.6565, -0.6573, -0.6572])"
      ]
     },
     "execution_count": 90,
     "metadata": {},
     "output_type": "execute_result"
    }
   ],
   "source": [
    "X_train_seq[1,:,0]"
   ]
  },
  {
   "cell_type": "code",
   "execution_count": 91,
   "id": "b719665b-5bc0-476e-b6e6-c86ef0161797",
   "metadata": {},
   "outputs": [
    {
     "data": {
      "text/plain": [
       "tensor([-0.6572])"
      ]
     },
     "execution_count": 91,
     "metadata": {},
     "output_type": "execute_result"
    }
   ],
   "source": [
    "y_train_seq[0]"
   ]
  },
  {
   "cell_type": "markdown",
   "id": "a3a8cffb-1f71-4ac5-82c4-bc35ce39770b",
   "metadata": {},
   "source": [
    "### DataLoader Setup "
   ]
  },
  {
   "cell_type": "code",
   "execution_count": 92,
   "id": "0fe2c549-738c-4c05-a5d5-44c64fdbb089",
   "metadata": {},
   "outputs": [],
   "source": [
    "from torch.utils.data import TensorDataset, DataLoader"
   ]
  },
  {
   "cell_type": "code",
   "execution_count": 93,
   "id": "c29949be-a877-40c5-8687-477f04e1a90c",
   "metadata": {},
   "outputs": [],
   "source": [
    "BATCH_SIZE = 32\n",
    "train_loader = DataLoader(TensorDataset(X_train_seq, y_train_seq), batch_size=BATCH_SIZE, shuffle=False)\n",
    "val_loader = DataLoader(TensorDataset(X_val_seq, y_val_seq), batch_size=BATCH_SIZE, shuffle=False)\n",
    "test_loader = DataLoader(TensorDataset(X_test_seq, y_test_seq), batch_size=BATCH_SIZE, shuffle=False)"
   ]
  },
  {
   "cell_type": "markdown",
   "id": "6441030f-ba64-42e2-b5d7-b1db11d7b78f",
   "metadata": {},
   "source": [
    "## Model GRU"
   ]
  },
  {
   "cell_type": "code",
   "execution_count": 94,
   "id": "69cc22d7-94af-4f4a-a0a3-3d69f6f177ba",
   "metadata": {},
   "outputs": [],
   "source": [
    "import torch\n",
    "import torch.nn as nn\n",
    "\n",
    "class BitcoinBiLSTM(nn.Module):\n",
    "    def __init__(self, input_size, hidden_size, dropout_rate):\n",
    "        super().__init__()\n",
    "        # First Bi-LSTM + Dropout\n",
    "        self.bilstm1 = nn.LSTM(\n",
    "            input_size=input_size,\n",
    "            hidden_size=hidden_size,\n",
    "            bidirectional=True,\n",
    "            batch_first=True\n",
    "        )\n",
    "        self.dropout1 = nn.Dropout(dropout_rate)\n",
    "        \n",
    "        # Second Bi-LSTM + Dropout\n",
    "        self.bilstm2 = nn.LSTM(\n",
    "            input_size=hidden_size*2,  # Bidirectional doubles output size\n",
    "            hidden_size=hidden_size,\n",
    "            bidirectional=True,\n",
    "            batch_first=True\n",
    "        )\n",
    "        self.dropout2 = nn.Dropout(dropout_rate)\n",
    "        \n",
    "        # Final regression layer\n",
    "        self.fc = nn.Linear(hidden_size*2, 1)  # Single output neuron\n",
    "        \n",
    "        # Activation\n",
    "        self.relu = nn.ReLU()\n",
    "\n",
    "    def forward(self, x):\n",
    "        # Layer 1\n",
    "        x, _ = self.bilstm1(x)\n",
    "        x = self.dropout1(x)\n",
    "        x = self.relu(x)  # ReLU after first layer\n",
    "        \n",
    "        # Layer 2\n",
    "        x, _ = self.bilstm2(x)\n",
    "        x = self.dropout2(x)\n",
    "        x = self.relu(x)  # ReLU after second layer\n",
    "        \n",
    "        # Final prediction\n",
    "        x = self.fc(x[:, -1, :])  # Use last timestep's output\n",
    "        return x"
   ]
  },
  {
   "cell_type": "code",
   "execution_count": 95,
   "id": "480319b5-45e1-43d0-89a9-e263b6f35fb9",
   "metadata": {},
   "outputs": [],
   "source": [
    "class HyperbolicCosineLoss(nn.Module):\n",
    "    def __init__(self):\n",
    "        super().__init__()\n",
    "        \n",
    "    def forward(self, preds, targets):\n",
    "        return torch.mean(torch.cosh(preds - targets))\n",
    "\n",
    "# Usage\n",
    "criterion = HyperbolicCosineLoss()"
   ]
  },
  {
   "cell_type": "code",
   "execution_count": 96,
   "id": "0a1b0444-ddda-4494-a455-a54525d358be",
   "metadata": {},
   "outputs": [],
   "source": [
    "torch.mps.empty_cache()"
   ]
  },
  {
   "cell_type": "code",
   "execution_count": 97,
   "id": "d6261bc8-44ba-4ef4-ac1b-32d0a6dff433",
   "metadata": {},
   "outputs": [
    {
     "name": "stdout",
     "output_type": "stream",
     "text": [
      "BitcoinBiLSTM(\n",
      "  (bilstm1): LSTM(6, 512, batch_first=True, bidirectional=True)\n",
      "  (dropout1): Dropout(p=0.1, inplace=False)\n",
      "  (bilstm2): LSTM(1024, 512, batch_first=True, bidirectional=True)\n",
      "  (dropout2): Dropout(p=0.1, inplace=False)\n",
      "  (fc): Linear(in_features=1024, out_features=1, bias=True)\n",
      "  (relu): ReLU()\n",
      ")\n"
     ]
    }
   ],
   "source": [
    "# Hyperparameters\n",
    "input_size = 6  # ['Adj Close', 'Open', 'High', 'Low', 'Close', 'Volume']\n",
    "hidden_size = 512\n",
    "dropout_rate = 0.1\n",
    "#fc_units = 1\n",
    "\n",
    "model = BitcoinBiLSTM(input_size, hidden_size, dropout_rate)\n",
    "print(model)"
   ]
  },
  {
   "cell_type": "code",
   "execution_count": 98,
   "id": "f069403d-1b44-495f-b35b-fcfb976f5558",
   "metadata": {},
   "outputs": [],
   "source": [
    "# --- Training Configuration ---\n",
    "device = torch.device(\"mps\" if torch.backends.mps.is_available() else \"cpu\")\n",
    "model = model.to(device)\n",
    "optimizer = torch.optim.AdamW(model.parameters(), lr=1e-3, weight_decay=1e-4)\n",
    "scheduler = torch.optim.lr_scheduler.ReduceLROnPlateau(optimizer, 'min', patience=3)\n",
    "criterion = nn.HuberLoss()  # More robust than MSE"
   ]
  },
  {
   "cell_type": "code",
   "execution_count": 99,
   "id": "91b5051e-44ba-4d2c-bc95-1645edecbb29",
   "metadata": {},
   "outputs": [
    {
     "data": {
      "text/plain": [
       "BitcoinBiLSTM(\n",
       "  (bilstm1): LSTM(6, 512, batch_first=True, bidirectional=True)\n",
       "  (dropout1): Dropout(p=0.1, inplace=False)\n",
       "  (bilstm2): LSTM(1024, 512, batch_first=True, bidirectional=True)\n",
       "  (dropout2): Dropout(p=0.1, inplace=False)\n",
       "  (fc): Linear(in_features=1024, out_features=1, bias=True)\n",
       "  (relu): ReLU()\n",
       ")"
      ]
     },
     "execution_count": 99,
     "metadata": {},
     "output_type": "execute_result"
    }
   ],
   "source": [
    "model"
   ]
  },
  {
   "cell_type": "markdown",
   "id": "4b5000c5-c046-4935-8062-9386109a1c38",
   "metadata": {},
   "source": [
    "## Train & Evaluation"
   ]
  },
  {
   "cell_type": "code",
   "execution_count": 100,
   "id": "cffb666a-6316-4a65-a078-f683e066a68c",
   "metadata": {},
   "outputs": [],
   "source": [
    "# --- Training Loop ---\n",
    "def train_model(model, epochs=50):\n",
    "    best_val_loss = float('inf')\n",
    "    \n",
    "    for epoch in range(epochs):\n",
    "        # Training\n",
    "        model.train()\n",
    "        train_loss = 0\n",
    "        for X_batch, y_batch in train_loader:\n",
    "            X_batch, y_batch = X_batch.to(device), y_batch.to(device)\n",
    "            \n",
    "            optimizer.zero_grad()\n",
    "            outputs = model(X_batch)\n",
    "            loss = criterion(outputs, y_batch)\n",
    "            loss.backward()\n",
    "            torch.nn.utils.clip_grad_norm_(model.parameters(), 1.0)\n",
    "            optimizer.step()\n",
    "            \n",
    "            train_loss += loss.item()\n",
    "        \n",
    "        # Validation\n",
    "        model.eval()\n",
    "        val_loss = 0\n",
    "        with torch.no_grad():\n",
    "            for X_val, y_val in val_loader:\n",
    "                X_val, y_val = X_val.to(device), y_val.to(device)\n",
    "                outputs = model(X_val)\n",
    "                val_loss += criterion(outputs, y_val).item()\n",
    "        \n",
    "        avg_train_loss = train_loss/len(train_loader)\n",
    "        avg_val_loss = val_loss/len(val_loader)\n",
    "        scheduler.step(avg_val_loss)\n",
    "        \n",
    "        # Early stopping check\n",
    "        if avg_val_loss < best_val_loss:\n",
    "            best_val_loss = avg_val_loss\n",
    "            torch.save(model.state_dict(), 'best_model.pth')\n",
    "            \n",
    "        print(f\"Epoch {epoch+1}/{epochs} | Train Loss: {avg_train_loss:.4f} | Val Loss: {avg_val_loss:.4f}\")\n",
    "        \n",
    "    model.load_state_dict(torch.load('best_model.pth'))\n",
    "    return model"
   ]
  },
  {
   "cell_type": "code",
   "execution_count": 101,
   "id": "65f73c56-9d0f-4323-b30c-647e4a4c50fe",
   "metadata": {},
   "outputs": [
    {
     "name": "stdout",
     "output_type": "stream",
     "text": [
      "Epoch 1/50 | Train Loss: 0.0809 | Val Loss: 0.8314\n",
      "Epoch 2/50 | Train Loss: 0.2335 | Val Loss: 1.2440\n",
      "Epoch 3/50 | Train Loss: 0.5079 | Val Loss: 0.5877\n",
      "Epoch 4/50 | Train Loss: 0.3118 | Val Loss: 0.0650\n",
      "Epoch 5/50 | Train Loss: 0.0305 | Val Loss: 0.0200\n",
      "Epoch 6/50 | Train Loss: 0.0139 | Val Loss: 0.0357\n",
      "Epoch 7/50 | Train Loss: 0.0115 | Val Loss: 0.0183\n",
      "Epoch 8/50 | Train Loss: 0.0147 | Val Loss: 0.0099\n",
      "Epoch 9/50 | Train Loss: 0.0087 | Val Loss: 0.0226\n",
      "Epoch 10/50 | Train Loss: 0.0090 | Val Loss: 0.0390\n",
      "Epoch 11/50 | Train Loss: 0.0083 | Val Loss: 0.0260\n",
      "Epoch 12/50 | Train Loss: 0.0051 | Val Loss: 0.0207\n",
      "Epoch 13/50 | Train Loss: 0.0079 | Val Loss: 0.0246\n",
      "Epoch 14/50 | Train Loss: 0.0054 | Val Loss: 0.0160\n",
      "Epoch 15/50 | Train Loss: 0.0051 | Val Loss: 0.0112\n",
      "Epoch 16/50 | Train Loss: 0.0046 | Val Loss: 0.0086\n",
      "Epoch 17/50 | Train Loss: 0.0043 | Val Loss: 0.0070\n",
      "Epoch 18/50 | Train Loss: 0.0042 | Val Loss: 0.0063\n",
      "Epoch 19/50 | Train Loss: 0.0040 | Val Loss: 0.0055\n",
      "Epoch 20/50 | Train Loss: 0.0036 | Val Loss: 0.0054\n",
      "Epoch 21/50 | Train Loss: 0.0035 | Val Loss: 0.0054\n",
      "Epoch 22/50 | Train Loss: 0.0039 | Val Loss: 0.0050\n",
      "Epoch 23/50 | Train Loss: 0.0036 | Val Loss: 0.0046\n",
      "Epoch 24/50 | Train Loss: 0.0034 | Val Loss: 0.0046\n",
      "Epoch 25/50 | Train Loss: 0.0035 | Val Loss: 0.0045\n",
      "Epoch 26/50 | Train Loss: 0.0034 | Val Loss: 0.0044\n",
      "Epoch 27/50 | Train Loss: 0.0031 | Val Loss: 0.0042\n",
      "Epoch 28/50 | Train Loss: 0.0032 | Val Loss: 0.0040\n",
      "Epoch 29/50 | Train Loss: 0.0032 | Val Loss: 0.0040\n",
      "Epoch 30/50 | Train Loss: 0.0030 | Val Loss: 0.0038\n",
      "Epoch 31/50 | Train Loss: 0.0031 | Val Loss: 0.0037\n",
      "Epoch 32/50 | Train Loss: 0.0030 | Val Loss: 0.0035\n",
      "Epoch 33/50 | Train Loss: 0.0033 | Val Loss: 0.0035\n",
      "Epoch 34/50 | Train Loss: 0.0031 | Val Loss: 0.0053\n",
      "Epoch 35/50 | Train Loss: 0.0026 | Val Loss: 0.0037\n",
      "Epoch 36/50 | Train Loss: 0.0041 | Val Loss: 0.0073\n",
      "Epoch 37/50 | Train Loss: 0.0044 | Val Loss: 0.0037\n",
      "Epoch 38/50 | Train Loss: 0.0028 | Val Loss: 0.0030\n",
      "Epoch 39/50 | Train Loss: 0.0029 | Val Loss: 0.0030\n",
      "Epoch 40/50 | Train Loss: 0.0026 | Val Loss: 0.0030\n",
      "Epoch 41/50 | Train Loss: 0.0024 | Val Loss: 0.0030\n",
      "Epoch 42/50 | Train Loss: 0.0025 | Val Loss: 0.0030\n",
      "Epoch 43/50 | Train Loss: 0.0024 | Val Loss: 0.0031\n",
      "Epoch 44/50 | Train Loss: 0.0026 | Val Loss: 0.0031\n",
      "Epoch 45/50 | Train Loss: 0.0024 | Val Loss: 0.0031\n",
      "Epoch 46/50 | Train Loss: 0.0024 | Val Loss: 0.0031\n",
      "Epoch 47/50 | Train Loss: 0.0026 | Val Loss: 0.0031\n",
      "Epoch 48/50 | Train Loss: 0.0024 | Val Loss: 0.0031\n",
      "Epoch 49/50 | Train Loss: 0.0024 | Val Loss: 0.0031\n",
      "Epoch 50/50 | Train Loss: 0.0024 | Val Loss: 0.0031\n"
     ]
    },
    {
     "name": "stderr",
     "output_type": "stream",
     "text": [
      "/var/folders/8p/ztyyqgbs6_l4yvpdgl86tmsr0000gn/T/ipykernel_1566/2015581071.py:41: FutureWarning: You are using `torch.load` with `weights_only=False` (the current default value), which uses the default pickle module implicitly. It is possible to construct malicious pickle data which will execute arbitrary code during unpickling (See https://github.com/pytorch/pytorch/blob/main/SECURITY.md#untrusted-models for more details). In a future release, the default value for `weights_only` will be flipped to `True`. This limits the functions that could be executed during unpickling. Arbitrary objects will no longer be allowed to be loaded via this mode unless they are explicitly allowlisted by the user via `torch.serialization.add_safe_globals`. We recommend you start setting `weights_only=True` for any use case where you don't have full control of the loaded file. Please open an issue on GitHub for any issues related to this experimental feature.\n",
      "  model.load_state_dict(torch.load('best_model.pth'))\n"
     ]
    }
   ],
   "source": [
    "model = train_model(model)"
   ]
  },
  {
   "cell_type": "code",
   "execution_count": 102,
   "id": "50c7a9c9-b808-4143-b4f6-1153f2c84fdc",
   "metadata": {},
   "outputs": [],
   "source": [
    "# --- Evaluation ---\n",
    "def inverse_transform(data, mean, std):\n",
    "    return data * std + mean\n",
    "\n",
    "def evaluate(model, loader):\n",
    "    model.eval()\n",
    "    predictions, truths = [], []\n",
    "    \n",
    "    with torch.no_grad():\n",
    "        for X, y in loader:\n",
    "            X, y = X.to(device), y.to(device)\n",
    "            preds = model(X).cpu().numpy()\n",
    "            \n",
    "            # Inverse normalization\n",
    "            preds = inverse_transform(preds, data_mean['Adj Close'], data_std['Adj Close'])\n",
    "            y = inverse_transform(y.cpu().numpy(), data_mean['Adj Close'], data_std['Adj Close'])\n",
    "            \n",
    "            predictions.extend(preds)\n",
    "            truths.extend(y)\n",
    "    \n",
    "    return np.array(predictions), np.array(truths)"
   ]
  },
  {
   "cell_type": "code",
   "execution_count": 103,
   "id": "18588a72-2e46-411c-9279-eed17607680e",
   "metadata": {},
   "outputs": [],
   "source": [
    "# --- Visualization ---\n",
    "def plot_predictions(true, pred, title=\"Predictions vs True Values\"):\n",
    "    plt.figure(figsize=(12, 6))\n",
    "    plt.plot(true[:, 0], label='True (First Day)', alpha=0.7)\n",
    "    plt.plot(pred[:, 0], label='Predicted (First Day)', linestyle='--')\n",
    "    plt.title(title)\n",
    "    plt.xlabel(\"Samples\")\n",
    "    plt.ylabel(\"Bitcoin Price (USD)\")\n",
    "    plt.legend()\n",
    "    plt.show()\n"
   ]
  },
  {
   "cell_type": "code",
   "execution_count": 104,
   "id": "b7b8e1f1-716c-4da0-931a-f849d839d50a",
   "metadata": {},
   "outputs": [],
   "source": [
    "# Generate predictions\n",
    "test_preds, test_true = evaluate(model, test_loader)"
   ]
  },
  {
   "cell_type": "code",
   "execution_count": 105,
   "id": "001f1863-87c1-4407-83f6-729fc4332421",
   "metadata": {},
   "outputs": [
    {
     "data": {
      "image/png": "[encoded data removed]",
      "text/plain": [
       "<Figure size 1200x600 with 1 Axes>"
      ]
     },
     "metadata": {},
     "output_type": "display_data"
    }
   ],
   "source": [
    "plot_predictions(test_true, test_preds)"
   ]
  },
  {
   "cell_type": "code",
   "execution_count": 108,
   "id": "f9f47a0e-01f4-4109-b5f5-d88565ae7d9a",
   "metadata": {},
   "outputs": [
    {
     "data": {
      "text/plain": [
       "(350, 1)"
      ]
     },
     "execution_count": 108,
     "metadata": {},
     "output_type": "execute_result"
    }
   ],
   "source": [
    "test_true.shape"
   ]
  },
  {
   "cell_type": "code",
   "execution_count": 63,
   "id": "9a9e30ea-52c3-4e32-8bfe-fb725134eb42",
   "metadata": {},
   "outputs": [
    {
     "data": {
      "text/plain": [
       "(372, 1)"
      ]
     },
     "execution_count": 63,
     "metadata": {},
     "output_type": "execute_result"
    }
   ],
   "source": [
    "test_preds.shape"
   ]
  },
  {
   "cell_type": "code",
   "execution_count": 109,
   "id": "c91e980a-6895-4574-8ab6-a729eef78674",
   "metadata": {},
   "outputs": [
    {
     "data": {
      "text/plain": [
       "array([101764.28], dtype=float32)"
      ]
     },
     "execution_count": 109,
     "metadata": {},
     "output_type": "execute_result"
    }
   ],
   "source": [
    "test_true[-1]"
   ]
  },
  {
   "cell_type": "code",
   "execution_count": 110,
   "id": "edded194-417c-4702-b2fb-484f02829551",
   "metadata": {},
   "outputs": [
    {
     "data": {
      "text/plain": [
       "array([72613.46], dtype=float32)"
      ]
     },
     "execution_count": 110,
     "metadata": {},
     "output_type": "execute_result"
    }
   ],
   "source": [
    "test_preds[-1]"
   ]
  },
  {
   "cell_type": "code",
   "execution_count": 111,
   "id": "69fd0e3d-ef70-4642-862b-1e6b56850417",
   "metadata": {},
   "outputs": [
    {
     "data": {
      "text/plain": [
       "array([29150.82], dtype=float32)"
      ]
     },
     "execution_count": 111,
     "metadata": {},
     "output_type": "execute_result"
    }
   ],
   "source": [
    "test_true[-1] - test_preds[-1]"
   ]
  },
  {
   "cell_type": "code",
   "execution_count": 116,
   "id": "35452879-1fe4-4b8a-8485-8b8097ce7e8a",
   "metadata": {},
   "outputs": [
    {
     "name": "stdout",
     "output_type": "stream",
     "text": [
      "Predicted price change is -0.24%, which is within the normal range.\n"
     ]
    }
   ],
   "source": [
    "def alert_price_increase(today_price, predicted_price, threshold=0.20):\n",
    "    \"\"\"\n",
    "    Checks if the predicted price increase is above a given threshold.\n",
    "    \n",
    "    Parameters:\n",
    "        today_price (float): The current price of Bitcoin.\n",
    "        predicted_price (float): The model's predicted price for tomorrow.\n",
    "        threshold (float): The fractional threshold for alerting (default is 0.20 for 20%).\n",
    "        \n",
    "    Returns:\n",
    "        bool: True if the predicted increase is above the threshold, False otherwise.\n",
    "    \"\"\"\n",
    "    # Calculate the relative change (as a fraction)\n",
    "    change_fraction = (predicted_price - today_price) / today_price\n",
    "\n",
    "    # Check if the change exceeds the threshold\n",
    "    if change_fraction > threshold:\n",
    "        print(f\"Alert: Predicted price increase is {change_fraction*100:.2f}% which is above the threshold of {threshold*100:.2f}%!\")\n",
    "        return True\n",
    "    else:\n",
    "        print(f\"Predicted price change is {change_fraction*100:.2f}%, which is within the normal range.\")\n",
    "        return False\n",
    "\n",
    "# Example usage:\n",
    "today_price = test_preds[-2][0]  # Example current price\n",
    "predicted_price = test_preds[-1][0]  # Example predicted price for tomorrow\n",
    "\n",
    "if alert_price_increase(today_price, predicted_price):\n",
    "    # Trigger additional logic if needed (e.g., send an alert, execute a trade, etc.)\n",
    "    pass\n"
   ]
  },
  {
   "cell_type": "code",
   "execution_count": 117,
   "id": "4b0a4fa2-2905-4590-88a1-82a3265baf2a",
   "metadata": {},
   "outputs": [
    {
     "data": {
      "text/plain": [
       "(array([72613.46], dtype=float32), array([72791.02], dtype=float32))"
      ]
     },
     "execution_count": 117,
     "metadata": {},
     "output_type": "execute_result"
    }
   ],
   "source": [
    "test_preds[-1], test_preds[-2]"
   ]
  },
  {
   "cell_type": "code",
   "execution_count": 119,
   "id": "42bc7424-3c68-4441-a469-79544094d1c8",
   "metadata": {},
   "outputs": [
    {
     "data": {
      "text/plain": [
       "array([-0.00244531], dtype=float32)"
      ]
     },
     "execution_count": 119,
     "metadata": {},
     "output_type": "execute_result"
    }
   ],
   "source": [
    "(test_preds[-1] - test_preds[-2]) / test_preds[-1]"
   ]
  },
  {
   "cell_type": "code",
   "execution_count": null,
   "id": "fa4d9c5a-25c0-4a44-9733-e146322f6f3b",
   "metadata": {},
   "outputs": [],
   "source": []
  },
  {
   "cell_type": "markdown",
   "id": "8d814763-8619-4201-bc55-b4c32a26b81f",
   "metadata": {},
   "source": [
    "### save model"
   ]
  },
  {
   "cell_type": "code",
   "execution_count": 41,
   "id": "ba7b2062-3950-40a4-9be3-74bfcd6ccb3e",
   "metadata": {},
   "outputs": [],
   "source": [
    "import torch\n",
    "import torch.nn as nn\n",
    "import numpy as np\n",
    "import pandas as pd\n",
    "import matplotlib.pyplot as plt\n",
    "from torch.utils.data import DataLoader, TensorDataset\n",
    "from sklearn.preprocessing import StandardScaler\n",
    "import yfinance as yf\n",
    "\n",
    "# ======================\n",
    "# 1. Data Preparation\n",
    "# ======================\n",
    "\n",
    "# Load and preprocess data\n",
    "def load_and_preprocess(train_ratio, val_ratio):\n",
    "    # Download data\n",
    "    df = yf.download(\"BTC-USD\", start=\"2014-01-01\", end=datetime.now())\n",
    "    df = df[['Adj Close', 'Open', 'High', 'Low', 'Close', 'Volume']]\n",
    "    \n",
    "    # Chronological split\n",
    "    train_size = int(train_ratio * len(df))\n",
    "    val_size = int(val_ratio * len(df))\n",
    "    train = df.iloc[:train_size]\n",
    "    val = df.iloc[train_size:train_size+val_size]\n",
    "    test = df.iloc[train_size+val_size:]\n",
    "    \n",
    "    # Normalize using training stats\n",
    "    scaler = StandardScaler().fit(train)\n",
    "    train_scaled = scaler.transform(train)\n",
    "    val_scaled = scaler.transform(val)\n",
    "    test_scaled = scaler.transform(test)\n",
    "    \n",
    "    return train_scaled, val_scaled, test_scaled, scaler\n",
    "\n",
    "# Create sequences\n",
    "def create_sequences(data, seq_length=30, pred_length=1):\n",
    "    X, y = [], []\n",
    "    for i in range(len(data) - seq_length - pred_length + 1):\n",
    "        X.append(data[i:i+seq_length])\n",
    "        y.append(data[i+seq_length:i+seq_length+pred_length, 0])  # Predict Adj Close\n",
    "    return np.array(X), np.array(y)\n",
    "\n",
    "# ======================\n",
    "# 2. Model Architecture\n",
    "# ======================\n",
    "\n",
    "class BitcoinBiLSTM(nn.Module):\n",
    "    def __init__(self, input_size, hidden_size, dropout_rate):\n",
    "        super().__init__()\n",
    "        # First Bi-LSTM + Dropout\n",
    "        self.bilstm1 = nn.LSTM(\n",
    "            input_size=input_size,\n",
    "            hidden_size=hidden_size,\n",
    "            bidirectional=True,\n",
    "            batch_first=True\n",
    "        )\n",
    "        self.dropout1 = nn.Dropout(dropout_rate)\n",
    "        \n",
    "        # Second Bi-LSTM + Dropout\n",
    "        self.bilstm2 = nn.LSTM(\n",
    "            input_size=hidden_size*2,  # Bidirectional doubles output size\n",
    "            hidden_size=hidden_size,\n",
    "            bidirectional=True,\n",
    "            batch_first=True\n",
    "        )\n",
    "        self.dropout2 = nn.Dropout(dropout_rate)\n",
    "        \n",
    "        # Final regression layer\n",
    "        self.fc = nn.Linear(hidden_size*2, 1)  # Single output neuron\n",
    "        \n",
    "        # Activation\n",
    "        self.relu = nn.ReLU()\n",
    "\n",
    "    def forward(self, x):\n",
    "        # Layer 1\n",
    "        x, _ = self.bilstm1(x)\n",
    "        x = self.dropout1(x)\n",
    "        x = self.relu(x)  # ReLU after first layer\n",
    "        \n",
    "        # Layer 2\n",
    "        x, _ = self.bilstm2(x)\n",
    "        x = self.dropout2(x)\n",
    "        x = self.relu(x)  # ReLU after second layer\n",
    "        \n",
    "        # Final prediction\n",
    "        x = self.fc(x[:, -1, :])  # Use last timestep's output\n",
    "        return x\n",
    "\n",
    "# ======================\n",
    "# 3. Training Setup\n",
    "# ======================\n",
    "\n",
    "class CoshLoss(nn.Module):\n",
    "    def forward(self, pred, target):\n",
    "        return torch.mean(torch.cosh(pred - target))\n",
    "\n",
    "# Initialize components\n",
    "device = torch.device(\"cuda\" if torch.cuda.is_available() else \"cpu\")\n",
    "model = BitcoinBiLSTM(input_size=6, hidden_size=512, dropout_rate=0.1).to(device)\n",
    "optimizer = torch.optim.Adam(model.parameters(), lr=1e-3, weight_decay=1e-4)\n",
    "scheduler = torch.optim.lr_scheduler.ReduceLROnPlateau(optimizer, 'min', patience=3)\n",
    "criterion = CoshLoss()\n",
    "\n",
    "# ======================\n",
    "# 4. Training Loop\n",
    "# ======================\n",
    "\n",
    "def train_model(train_loader, val_loader, epochs=100):\n",
    "    best_loss = float('inf')\n",
    "    patience_counter = 0\n",
    "    patience = 7\n",
    "    \n",
    "    train_losses, val_losses = [], []\n",
    "    \n",
    "    for epoch in range(epochs):\n",
    "        # Training\n",
    "        model.train()\n",
    "        epoch_train_loss = 0\n",
    "        for X_batch, y_batch in train_loader:\n",
    "            X_batch, y_batch = X_batch.to(device), y_batch.to(device)\n",
    "            \n",
    "            optimizer.zero_grad()\n",
    "            outputs = model(X_batch)\n",
    "            loss = criterion(outputs, y_batch)\n",
    "            loss.backward()\n",
    "            torch.nn.utils.clip_grad_norm_(model.parameters(), 1.0)\n",
    "            optimizer.step()\n",
    "            \n",
    "            epoch_train_loss += loss.item()\n",
    "        \n",
    "        # Validation\n",
    "        model.eval()\n",
    "        epoch_val_loss = 0\n",
    "        with torch.no_grad():\n",
    "            for X_val, y_val in val_loader:\n",
    "                X_val, y_val = X_val.to(device), y_val.to(device)\n",
    "                outputs = model(X_val)\n",
    "                epoch_val_loss += criterion(outputs, y_val).item()\n",
    "        \n",
    "        # Calculate metrics\n",
    "        avg_train_loss = epoch_train_loss / len(train_loader)\n",
    "        avg_val_loss = epoch_val_loss / len(val_loader)\n",
    "        train_losses.append(avg_train_loss)\n",
    "        val_losses.append(avg_val_loss)\n",
    "        \n",
    "        # Learning rate scheduling\n",
    "        scheduler.step(avg_val_loss)\n",
    "        \n",
    "        # Early stopping\n",
    "        if avg_val_loss < best_loss:\n",
    "            best_loss = avg_val_loss\n",
    "            patience_counter = 0\n",
    "            torch.save(model.state_dict(), 'best_model.pth')\n",
    "        else:\n",
    "            patience_counter += 1\n",
    "            \n",
    "        # Progress monitoring\n",
    "        print(f\"Epoch {epoch+1:03d} | Train Loss: {avg_train_loss:.4f} | Val Loss: {avg_val_loss:.4f} | LR: {optimizer.param_groups[0]['lr']:.2e}\")\n",
    "        \n",
    "        if patience_counter >= patience:\n",
    "            print(\"Early stopping triggered!\")\n",
    "            break\n",
    "            \n",
    "    # Load best model\n",
    "    model.load_state_dict(torch.load('best_model.pth'))\n",
    "    return train_losses, val_losses\n",
    "\n",
    "# ======================\n",
    "# 5. Evaluation\n",
    "# ======================\n",
    "\n",
    "def evaluate_model(test_loader, scaler):\n",
    "    model.eval()\n",
    "    predictions, actuals = [], []\n",
    "    with torch.no_grad():\n",
    "        for X_test, y_test in test_loader:\n",
    "            X_test, y_test = X_test.to(device), y_test.to(device)\n",
    "            outputs = model(X_test)\n",
    "            \n",
    "            # Inverse transform predictions\n",
    "            preds = outputs.cpu().numpy()\n",
    "            preds = scaler.inverse_transform(\n",
    "                np.concatenate([\n",
    "                    preds, \n",
    "                    np.zeros((preds.shape[0], 5))  # Add dummy columns for inverse transform\n",
    "                ], axis=1)\n",
    "            )[:, 0]  # Extract first column (Adj Close)\n",
    "            \n",
    "            # Inverse transform actuals\n",
    "            trues = y_test.cpu().numpy()\n",
    "            trues = scaler.inverse_transform(\n",
    "                np.concatenate([\n",
    "                    trues.reshape(-1,1), \n",
    "                    np.zeros((trues.size, 5))\n",
    "                ], axis=1)\n",
    "            )[:, 0]\n",
    "            \n",
    "            predictions.extend(preds)\n",
    "            actuals.extend(trues)\n",
    "    \n",
    "    return np.array(predictions), np.array(actuals)\n"
   ]
  },
  {
   "cell_type": "code",
   "execution_count": 5,
   "id": "343c654a-fe44-450e-ab79-9a83b7b1760b",
   "metadata": {},
   "outputs": [
    {
     "name": "stderr",
     "output_type": "stream",
     "text": [
      "[*********************100%***********************]  1 of 1 completed\n",
      "Sequence Lengths:   0%|                                   | 0/3 [00:00<?, ?it/s]\n",
      "Batch Sizes:   0%|                                        | 0/3 [00:00<?, ?it/s]\u001b[A\n",
      "Sequence Lengths:   0%|                                   | 0/3 [00:10<?, ?it/s]\u001b[A\n"
     ]
    },
    {
     "ename": "KeyboardInterrupt",
     "evalue": "",
     "output_type": "error",
     "traceback": [
      "\u001b[0;31m---------------------------------------------------------------------------\u001b[0m",
      "\u001b[0;31mKeyboardInterrupt\u001b[0m                         Traceback (most recent call last)",
      "Cell \u001b[0;32mIn[5], line 125\u001b[0m\n\u001b[1;32m    122\u001b[0m device \u001b[38;5;241m=\u001b[39m torch\u001b[38;5;241m.\u001b[39mdevice(\u001b[38;5;124m\"\u001b[39m\u001b[38;5;124mcuda\u001b[39m\u001b[38;5;124m\"\u001b[39m \u001b[38;5;28;01mif\u001b[39;00m torch\u001b[38;5;241m.\u001b[39mcuda\u001b[38;5;241m.\u001b[39mis_available() \u001b[38;5;28;01melse\u001b[39;00m \u001b[38;5;124m\"\u001b[39m\u001b[38;5;124mcpu\u001b[39m\u001b[38;5;124m\"\u001b[39m)\n\u001b[1;32m    123\u001b[0m criterion \u001b[38;5;241m=\u001b[39m CoshLoss()\n\u001b[0;32m--> 125\u001b[0m results_df \u001b[38;5;241m=\u001b[39m \u001b[43mmain_grid_search\u001b[49m\u001b[43m(\u001b[49m\u001b[43m)\u001b[49m\n\u001b[1;32m    127\u001b[0m \u001b[38;5;66;03m# Save results\u001b[39;00m\n\u001b[1;32m    128\u001b[0m results_df\u001b[38;5;241m.\u001b[39mto_csv(\u001b[38;5;124m\"\u001b[39m\u001b[38;5;124mgrid_search_results.csv\u001b[39m\u001b[38;5;124m\"\u001b[39m, index\u001b[38;5;241m=\u001b[39m\u001b[38;5;28;01mFalse\u001b[39;00m)\n",
      "Cell \u001b[0;32mIn[5], line 79\u001b[0m, in \u001b[0;36mmain_grid_search\u001b[0;34m()\u001b[0m\n\u001b[1;32m     77\u001b[0m         loss \u001b[38;5;241m=\u001b[39m criterion(outputs, y_batch\u001b[38;5;241m.\u001b[39mto(device))\n\u001b[1;32m     78\u001b[0m         loss\u001b[38;5;241m.\u001b[39mbackward()\n\u001b[0;32m---> 79\u001b[0m         \u001b[43moptimizer\u001b[49m\u001b[38;5;241;43m.\u001b[39;49m\u001b[43mstep\u001b[49m\u001b[43m(\u001b[49m\u001b[43m)\u001b[49m\n\u001b[1;32m     81\u001b[0m \u001b[38;5;66;03m# Evaluation\u001b[39;00m\n\u001b[1;32m     82\u001b[0m model\u001b[38;5;241m.\u001b[39meval()\n",
      "File \u001b[0;32m/Library/Frameworks/Python.framework/Versions/3.11/lib/python3.11/site-packages/torch/optim/optimizer.py:487\u001b[0m, in \u001b[0;36mOptimizer.profile_hook_step.<locals>.wrapper\u001b[0;34m(*args, **kwargs)\u001b[0m\n\u001b[1;32m    482\u001b[0m         \u001b[38;5;28;01melse\u001b[39;00m:\n\u001b[1;32m    483\u001b[0m             \u001b[38;5;28;01mraise\u001b[39;00m \u001b[38;5;167;01mRuntimeError\u001b[39;00m(\n\u001b[1;32m    484\u001b[0m                 \u001b[38;5;124mf\u001b[39m\u001b[38;5;124m\"\u001b[39m\u001b[38;5;132;01m{\u001b[39;00mfunc\u001b[38;5;132;01m}\u001b[39;00m\u001b[38;5;124m must return None or a tuple of (new_args, new_kwargs), but got \u001b[39m\u001b[38;5;132;01m{\u001b[39;00mresult\u001b[38;5;132;01m}\u001b[39;00m\u001b[38;5;124m.\u001b[39m\u001b[38;5;124m\"\u001b[39m\n\u001b[1;32m    485\u001b[0m             )\n\u001b[0;32m--> 487\u001b[0m out \u001b[38;5;241m=\u001b[39m \u001b[43mfunc\u001b[49m\u001b[43m(\u001b[49m\u001b[38;5;241;43m*\u001b[39;49m\u001b[43margs\u001b[49m\u001b[43m,\u001b[49m\u001b[43m \u001b[49m\u001b[38;5;241;43m*\u001b[39;49m\u001b[38;5;241;43m*\u001b[39;49m\u001b[43mkwargs\u001b[49m\u001b[43m)\u001b[49m\n\u001b[1;32m    488\u001b[0m \u001b[38;5;28mself\u001b[39m\u001b[38;5;241m.\u001b[39m_optimizer_step_code()\n\u001b[1;32m    490\u001b[0m \u001b[38;5;66;03m# call optimizer step post hooks\u001b[39;00m\n",
      "File \u001b[0;32m/Library/Frameworks/Python.framework/Versions/3.11/lib/python3.11/site-packages/torch/optim/optimizer.py:91\u001b[0m, in \u001b[0;36m_use_grad_for_differentiable.<locals>._use_grad\u001b[0;34m(self, *args, **kwargs)\u001b[0m\n\u001b[1;32m     89\u001b[0m     torch\u001b[38;5;241m.\u001b[39mset_grad_enabled(\u001b[38;5;28mself\u001b[39m\u001b[38;5;241m.\u001b[39mdefaults[\u001b[38;5;124m\"\u001b[39m\u001b[38;5;124mdifferentiable\u001b[39m\u001b[38;5;124m\"\u001b[39m])\n\u001b[1;32m     90\u001b[0m     torch\u001b[38;5;241m.\u001b[39m_dynamo\u001b[38;5;241m.\u001b[39mgraph_break()\n\u001b[0;32m---> 91\u001b[0m     ret \u001b[38;5;241m=\u001b[39m \u001b[43mfunc\u001b[49m\u001b[43m(\u001b[49m\u001b[38;5;28;43mself\u001b[39;49m\u001b[43m,\u001b[49m\u001b[43m \u001b[49m\u001b[38;5;241;43m*\u001b[39;49m\u001b[43margs\u001b[49m\u001b[43m,\u001b[49m\u001b[43m \u001b[49m\u001b[38;5;241;43m*\u001b[39;49m\u001b[38;5;241;43m*\u001b[39;49m\u001b[43mkwargs\u001b[49m\u001b[43m)\u001b[49m\n\u001b[1;32m     92\u001b[0m \u001b[38;5;28;01mfinally\u001b[39;00m:\n\u001b[1;32m     93\u001b[0m     torch\u001b[38;5;241m.\u001b[39m_dynamo\u001b[38;5;241m.\u001b[39mgraph_break()\n",
      "File \u001b[0;32m/Library/Frameworks/Python.framework/Versions/3.11/lib/python3.11/site-packages/torch/optim/adam.py:223\u001b[0m, in \u001b[0;36mAdam.step\u001b[0;34m(self, closure)\u001b[0m\n\u001b[1;32m    211\u001b[0m     beta1, beta2 \u001b[38;5;241m=\u001b[39m group[\u001b[38;5;124m\"\u001b[39m\u001b[38;5;124mbetas\u001b[39m\u001b[38;5;124m\"\u001b[39m]\n\u001b[1;32m    213\u001b[0m     has_complex \u001b[38;5;241m=\u001b[39m \u001b[38;5;28mself\u001b[39m\u001b[38;5;241m.\u001b[39m_init_group(\n\u001b[1;32m    214\u001b[0m         group,\n\u001b[1;32m    215\u001b[0m         params_with_grad,\n\u001b[0;32m   (...)\u001b[0m\n\u001b[1;32m    220\u001b[0m         state_steps,\n\u001b[1;32m    221\u001b[0m     )\n\u001b[0;32m--> 223\u001b[0m     \u001b[43madam\u001b[49m\u001b[43m(\u001b[49m\n\u001b[1;32m    224\u001b[0m \u001b[43m        \u001b[49m\u001b[43mparams_with_grad\u001b[49m\u001b[43m,\u001b[49m\n\u001b[1;32m    225\u001b[0m \u001b[43m        \u001b[49m\u001b[43mgrads\u001b[49m\u001b[43m,\u001b[49m\n\u001b[1;32m    226\u001b[0m \u001b[43m        \u001b[49m\u001b[43mexp_avgs\u001b[49m\u001b[43m,\u001b[49m\n\u001b[1;32m    227\u001b[0m \u001b[43m        \u001b[49m\u001b[43mexp_avg_sqs\u001b[49m\u001b[43m,\u001b[49m\n\u001b[1;32m    228\u001b[0m \u001b[43m        \u001b[49m\u001b[43mmax_exp_avg_sqs\u001b[49m\u001b[43m,\u001b[49m\n\u001b[1;32m    229\u001b[0m \u001b[43m        \u001b[49m\u001b[43mstate_steps\u001b[49m\u001b[43m,\u001b[49m\n\u001b[1;32m    230\u001b[0m \u001b[43m        \u001b[49m\u001b[43mamsgrad\u001b[49m\u001b[38;5;241;43m=\u001b[39;49m\u001b[43mgroup\u001b[49m\u001b[43m[\u001b[49m\u001b[38;5;124;43m\"\u001b[39;49m\u001b[38;5;124;43mamsgrad\u001b[39;49m\u001b[38;5;124;43m\"\u001b[39;49m\u001b[43m]\u001b[49m\u001b[43m,\u001b[49m\n\u001b[1;32m    231\u001b[0m \u001b[43m        \u001b[49m\u001b[43mhas_complex\u001b[49m\u001b[38;5;241;43m=\u001b[39;49m\u001b[43mhas_complex\u001b[49m\u001b[43m,\u001b[49m\n\u001b[1;32m    232\u001b[0m \u001b[43m        \u001b[49m\u001b[43mbeta1\u001b[49m\u001b[38;5;241;43m=\u001b[39;49m\u001b[43mbeta1\u001b[49m\u001b[43m,\u001b[49m\n\u001b[1;32m    233\u001b[0m \u001b[43m        \u001b[49m\u001b[43mbeta2\u001b[49m\u001b[38;5;241;43m=\u001b[39;49m\u001b[43mbeta2\u001b[49m\u001b[43m,\u001b[49m\n\u001b[1;32m    234\u001b[0m \u001b[43m        \u001b[49m\u001b[43mlr\u001b[49m\u001b[38;5;241;43m=\u001b[39;49m\u001b[43mgroup\u001b[49m\u001b[43m[\u001b[49m\u001b[38;5;124;43m\"\u001b[39;49m\u001b[38;5;124;43mlr\u001b[39;49m\u001b[38;5;124;43m\"\u001b[39;49m\u001b[43m]\u001b[49m\u001b[43m,\u001b[49m\n\u001b[1;32m    235\u001b[0m \u001b[43m        \u001b[49m\u001b[43mweight_decay\u001b[49m\u001b[38;5;241;43m=\u001b[39;49m\u001b[43mgroup\u001b[49m\u001b[43m[\u001b[49m\u001b[38;5;124;43m\"\u001b[39;49m\u001b[38;5;124;43mweight_decay\u001b[39;49m\u001b[38;5;124;43m\"\u001b[39;49m\u001b[43m]\u001b[49m\u001b[43m,\u001b[49m\n\u001b[1;32m    236\u001b[0m \u001b[43m        \u001b[49m\u001b[43meps\u001b[49m\u001b[38;5;241;43m=\u001b[39;49m\u001b[43mgroup\u001b[49m\u001b[43m[\u001b[49m\u001b[38;5;124;43m\"\u001b[39;49m\u001b[38;5;124;43meps\u001b[39;49m\u001b[38;5;124;43m\"\u001b[39;49m\u001b[43m]\u001b[49m\u001b[43m,\u001b[49m\n\u001b[1;32m    237\u001b[0m \u001b[43m        \u001b[49m\u001b[43mmaximize\u001b[49m\u001b[38;5;241;43m=\u001b[39;49m\u001b[43mgroup\u001b[49m\u001b[43m[\u001b[49m\u001b[38;5;124;43m\"\u001b[39;49m\u001b[38;5;124;43mmaximize\u001b[39;49m\u001b[38;5;124;43m\"\u001b[39;49m\u001b[43m]\u001b[49m\u001b[43m,\u001b[49m\n\u001b[1;32m    238\u001b[0m \u001b[43m        \u001b[49m\u001b[43mforeach\u001b[49m\u001b[38;5;241;43m=\u001b[39;49m\u001b[43mgroup\u001b[49m\u001b[43m[\u001b[49m\u001b[38;5;124;43m\"\u001b[39;49m\u001b[38;5;124;43mforeach\u001b[39;49m\u001b[38;5;124;43m\"\u001b[39;49m\u001b[43m]\u001b[49m\u001b[43m,\u001b[49m\n\u001b[1;32m    239\u001b[0m \u001b[43m        \u001b[49m\u001b[43mcapturable\u001b[49m\u001b[38;5;241;43m=\u001b[39;49m\u001b[43mgroup\u001b[49m\u001b[43m[\u001b[49m\u001b[38;5;124;43m\"\u001b[39;49m\u001b[38;5;124;43mcapturable\u001b[39;49m\u001b[38;5;124;43m\"\u001b[39;49m\u001b[43m]\u001b[49m\u001b[43m,\u001b[49m\n\u001b[1;32m    240\u001b[0m \u001b[43m        \u001b[49m\u001b[43mdifferentiable\u001b[49m\u001b[38;5;241;43m=\u001b[39;49m\u001b[43mgroup\u001b[49m\u001b[43m[\u001b[49m\u001b[38;5;124;43m\"\u001b[39;49m\u001b[38;5;124;43mdifferentiable\u001b[39;49m\u001b[38;5;124;43m\"\u001b[39;49m\u001b[43m]\u001b[49m\u001b[43m,\u001b[49m\n\u001b[1;32m    241\u001b[0m \u001b[43m        \u001b[49m\u001b[43mfused\u001b[49m\u001b[38;5;241;43m=\u001b[39;49m\u001b[43mgroup\u001b[49m\u001b[43m[\u001b[49m\u001b[38;5;124;43m\"\u001b[39;49m\u001b[38;5;124;43mfused\u001b[39;49m\u001b[38;5;124;43m\"\u001b[39;49m\u001b[43m]\u001b[49m\u001b[43m,\u001b[49m\n\u001b[1;32m    242\u001b[0m \u001b[43m        \u001b[49m\u001b[43mgrad_scale\u001b[49m\u001b[38;5;241;43m=\u001b[39;49m\u001b[38;5;28;43mgetattr\u001b[39;49m\u001b[43m(\u001b[49m\u001b[38;5;28;43mself\u001b[39;49m\u001b[43m,\u001b[49m\u001b[43m \u001b[49m\u001b[38;5;124;43m\"\u001b[39;49m\u001b[38;5;124;43mgrad_scale\u001b[39;49m\u001b[38;5;124;43m\"\u001b[39;49m\u001b[43m,\u001b[49m\u001b[43m \u001b[49m\u001b[38;5;28;43;01mNone\u001b[39;49;00m\u001b[43m)\u001b[49m\u001b[43m,\u001b[49m\n\u001b[1;32m    243\u001b[0m \u001b[43m        \u001b[49m\u001b[43mfound_inf\u001b[49m\u001b[38;5;241;43m=\u001b[39;49m\u001b[38;5;28;43mgetattr\u001b[39;49m\u001b[43m(\u001b[49m\u001b[38;5;28;43mself\u001b[39;49m\u001b[43m,\u001b[49m\u001b[43m \u001b[49m\u001b[38;5;124;43m\"\u001b[39;49m\u001b[38;5;124;43mfound_inf\u001b[39;49m\u001b[38;5;124;43m\"\u001b[39;49m\u001b[43m,\u001b[49m\u001b[43m \u001b[49m\u001b[38;5;28;43;01mNone\u001b[39;49;00m\u001b[43m)\u001b[49m\u001b[43m,\u001b[49m\n\u001b[1;32m    244\u001b[0m \u001b[43m    \u001b[49m\u001b[43m)\u001b[49m\n\u001b[1;32m    246\u001b[0m \u001b[38;5;28;01mreturn\u001b[39;00m loss\n",
      "File \u001b[0;32m/Library/Frameworks/Python.framework/Versions/3.11/lib/python3.11/site-packages/torch/optim/optimizer.py:154\u001b[0m, in \u001b[0;36m_disable_dynamo_if_unsupported.<locals>.wrapper.<locals>.maybe_fallback\u001b[0;34m(*args, **kwargs)\u001b[0m\n\u001b[1;32m    152\u001b[0m     \u001b[38;5;28;01mreturn\u001b[39;00m disabled_func(\u001b[38;5;241m*\u001b[39margs, \u001b[38;5;241m*\u001b[39m\u001b[38;5;241m*\u001b[39mkwargs)\n\u001b[1;32m    153\u001b[0m \u001b[38;5;28;01melse\u001b[39;00m:\n\u001b[0;32m--> 154\u001b[0m     \u001b[38;5;28;01mreturn\u001b[39;00m \u001b[43mfunc\u001b[49m\u001b[43m(\u001b[49m\u001b[38;5;241;43m*\u001b[39;49m\u001b[43margs\u001b[49m\u001b[43m,\u001b[49m\u001b[43m \u001b[49m\u001b[38;5;241;43m*\u001b[39;49m\u001b[38;5;241;43m*\u001b[39;49m\u001b[43mkwargs\u001b[49m\u001b[43m)\u001b[49m\n",
      "File \u001b[0;32m/Library/Frameworks/Python.framework/Versions/3.11/lib/python3.11/site-packages/torch/optim/adam.py:784\u001b[0m, in \u001b[0;36madam\u001b[0;34m(params, grads, exp_avgs, exp_avg_sqs, max_exp_avg_sqs, state_steps, foreach, capturable, differentiable, fused, grad_scale, found_inf, has_complex, amsgrad, beta1, beta2, lr, weight_decay, eps, maximize)\u001b[0m\n\u001b[1;32m    781\u001b[0m \u001b[38;5;28;01melse\u001b[39;00m:\n\u001b[1;32m    782\u001b[0m     func \u001b[38;5;241m=\u001b[39m _single_tensor_adam\n\u001b[0;32m--> 784\u001b[0m \u001b[43mfunc\u001b[49m\u001b[43m(\u001b[49m\n\u001b[1;32m    785\u001b[0m \u001b[43m    \u001b[49m\u001b[43mparams\u001b[49m\u001b[43m,\u001b[49m\n\u001b[1;32m    786\u001b[0m \u001b[43m    \u001b[49m\u001b[43mgrads\u001b[49m\u001b[43m,\u001b[49m\n\u001b[1;32m    787\u001b[0m \u001b[43m    \u001b[49m\u001b[43mexp_avgs\u001b[49m\u001b[43m,\u001b[49m\n\u001b[1;32m    788\u001b[0m \u001b[43m    \u001b[49m\u001b[43mexp_avg_sqs\u001b[49m\u001b[43m,\u001b[49m\n\u001b[1;32m    789\u001b[0m \u001b[43m    \u001b[49m\u001b[43mmax_exp_avg_sqs\u001b[49m\u001b[43m,\u001b[49m\n\u001b[1;32m    790\u001b[0m \u001b[43m    \u001b[49m\u001b[43mstate_steps\u001b[49m\u001b[43m,\u001b[49m\n\u001b[1;32m    791\u001b[0m \u001b[43m    \u001b[49m\u001b[43mamsgrad\u001b[49m\u001b[38;5;241;43m=\u001b[39;49m\u001b[43mamsgrad\u001b[49m\u001b[43m,\u001b[49m\n\u001b[1;32m    792\u001b[0m \u001b[43m    \u001b[49m\u001b[43mhas_complex\u001b[49m\u001b[38;5;241;43m=\u001b[39;49m\u001b[43mhas_complex\u001b[49m\u001b[43m,\u001b[49m\n\u001b[1;32m    793\u001b[0m \u001b[43m    \u001b[49m\u001b[43mbeta1\u001b[49m\u001b[38;5;241;43m=\u001b[39;49m\u001b[43mbeta1\u001b[49m\u001b[43m,\u001b[49m\n\u001b[1;32m    794\u001b[0m \u001b[43m    \u001b[49m\u001b[43mbeta2\u001b[49m\u001b[38;5;241;43m=\u001b[39;49m\u001b[43mbeta2\u001b[49m\u001b[43m,\u001b[49m\n\u001b[1;32m    795\u001b[0m \u001b[43m    \u001b[49m\u001b[43mlr\u001b[49m\u001b[38;5;241;43m=\u001b[39;49m\u001b[43mlr\u001b[49m\u001b[43m,\u001b[49m\n\u001b[1;32m    796\u001b[0m \u001b[43m    \u001b[49m\u001b[43mweight_decay\u001b[49m\u001b[38;5;241;43m=\u001b[39;49m\u001b[43mweight_decay\u001b[49m\u001b[43m,\u001b[49m\n\u001b[1;32m    797\u001b[0m \u001b[43m    \u001b[49m\u001b[43meps\u001b[49m\u001b[38;5;241;43m=\u001b[39;49m\u001b[43meps\u001b[49m\u001b[43m,\u001b[49m\n\u001b[1;32m    798\u001b[0m \u001b[43m    \u001b[49m\u001b[43mmaximize\u001b[49m\u001b[38;5;241;43m=\u001b[39;49m\u001b[43mmaximize\u001b[49m\u001b[43m,\u001b[49m\n\u001b[1;32m    799\u001b[0m \u001b[43m    \u001b[49m\u001b[43mcapturable\u001b[49m\u001b[38;5;241;43m=\u001b[39;49m\u001b[43mcapturable\u001b[49m\u001b[43m,\u001b[49m\n\u001b[1;32m    800\u001b[0m \u001b[43m    \u001b[49m\u001b[43mdifferentiable\u001b[49m\u001b[38;5;241;43m=\u001b[39;49m\u001b[43mdifferentiable\u001b[49m\u001b[43m,\u001b[49m\n\u001b[1;32m    801\u001b[0m \u001b[43m    \u001b[49m\u001b[43mgrad_scale\u001b[49m\u001b[38;5;241;43m=\u001b[39;49m\u001b[43mgrad_scale\u001b[49m\u001b[43m,\u001b[49m\n\u001b[1;32m    802\u001b[0m \u001b[43m    \u001b[49m\u001b[43mfound_inf\u001b[49m\u001b[38;5;241;43m=\u001b[39;49m\u001b[43mfound_inf\u001b[49m\u001b[43m,\u001b[49m\n\u001b[1;32m    803\u001b[0m \u001b[43m\u001b[49m\u001b[43m)\u001b[49m\n",
      "File \u001b[0;32m/Library/Frameworks/Python.framework/Versions/3.11/lib/python3.11/site-packages/torch/optim/adam.py:379\u001b[0m, in \u001b[0;36m_single_tensor_adam\u001b[0;34m(params, grads, exp_avgs, exp_avg_sqs, max_exp_avg_sqs, state_steps, grad_scale, found_inf, amsgrad, has_complex, beta1, beta2, lr, weight_decay, eps, maximize, capturable, differentiable)\u001b[0m\n\u001b[1;32m    377\u001b[0m \u001b[38;5;66;03m# Decay the first and second moment running average coefficient\u001b[39;00m\n\u001b[1;32m    378\u001b[0m exp_avg\u001b[38;5;241m.\u001b[39mlerp_(grad, \u001b[38;5;241m1\u001b[39m \u001b[38;5;241m-\u001b[39m beta1)\n\u001b[0;32m--> 379\u001b[0m \u001b[43mexp_avg_sq\u001b[49m\u001b[38;5;241;43m.\u001b[39;49m\u001b[43mmul_\u001b[49m\u001b[43m(\u001b[49m\u001b[43mbeta2\u001b[49m\u001b[43m)\u001b[49m\u001b[38;5;241m.\u001b[39maddcmul_(grad, grad\u001b[38;5;241m.\u001b[39mconj(), value\u001b[38;5;241m=\u001b[39m\u001b[38;5;241m1\u001b[39m \u001b[38;5;241m-\u001b[39m beta2)\n\u001b[1;32m    381\u001b[0m \u001b[38;5;28;01mif\u001b[39;00m capturable \u001b[38;5;129;01mor\u001b[39;00m differentiable:\n\u001b[1;32m    382\u001b[0m     step \u001b[38;5;241m=\u001b[39m step_t\n",
      "\u001b[0;31mKeyboardInterrupt\u001b[0m: "
     ]
    }
   ],
   "source": [
    "import torch\n",
    "import numpy as np\n",
    "import pandas as pd\n",
    "from tqdm import tqdm\n",
    "from datetime import datetime\n",
    "\n",
    "# ======================\n",
    "# Modified Implementation\n",
    "# ======================\n",
    "\n",
    "def main_grid_search():\n",
    "    # Grid parameters\n",
    "    seq_lengths = [7, 15, 30]\n",
    "    batch_sizes = [32, 64, 128]\n",
    "    test_ratio = 0.2  # Fixed test set ratio\n",
    "    \n",
    "    results = []\n",
    "    \n",
    "    # Load base data once\n",
    "    df = yf.download(\"BTC-USD\", start=\"2014-01-01\", end=datetime.now())\n",
    "    df = df[['Adj Close', 'Open', 'High', 'Low', 'Close', 'Volume']]\n",
    "    \n",
    "    # Fixed split indices\n",
    "    total_size = len(df)\n",
    "    test_size = int(test_ratio * total_size)\n",
    "    trainval_size = total_size - test_size\n",
    "    train_size = int(0.8 * trainval_size)  # 80% of trainval for training\n",
    "    \n",
    "    for seq_length in tqdm(seq_lengths, desc=\"Sequence Lengths\"):\n",
    "        for batch_size in tqdm(batch_sizes, desc=\"Batch Sizes\", leave=False):\n",
    "            # Create sequences with current seq_length\n",
    "            def create_sequences(data):\n",
    "                X, y = [], []\n",
    "                for i in range(len(data) - seq_length):\n",
    "                    X.append(data[i:i+seq_length])\n",
    "                    y.append(data[i+seq_length, 0])  # Predict Adj Close\n",
    "                return np.array(X), np.array(y)\n",
    "            \n",
    "            # Split and normalize\n",
    "            train = df.iloc[:train_size]\n",
    "            val = df.iloc[train_size:trainval_size]\n",
    "            test = df.iloc[trainval_size:]\n",
    "            \n",
    "            # Normalize using training stats\n",
    "            scaler = StandardScaler().fit(train)\n",
    "            train_scaled = scaler.transform(train)\n",
    "            val_scaled = scaler.transform(val)\n",
    "            test_scaled = scaler.transform(test)\n",
    "            \n",
    "            # Create sequences\n",
    "            X_train, y_train = create_sequences(train_scaled)\n",
    "            X_val, y_val = create_sequences(val_scaled)\n",
    "            X_test, y_test = create_sequences(test_scaled)\n",
    "            \n",
    "            # Create DataLoaders\n",
    "            train_loader = DataLoader(\n",
    "                TensorDataset(torch.FloatTensor(X_train), torch.FloatTensor(y_train)),\n",
    "                batch_size=batch_size,\n",
    "                shuffle=False\n",
    "            )\n",
    "            test_loader = DataLoader(\n",
    "                TensorDataset(torch.FloatTensor(X_test), torch.FloatTensor(y_test)),\n",
    "                batch_size=batch_size,\n",
    "                shuffle=False\n",
    "            )\n",
    "            \n",
    "            # Initialize fresh model for each combination\n",
    "            model = BitcoinBiLSTM(input_size=6, hidden_size=128, dropout_rate=0.2).to(device)\n",
    "            optimizer = torch.optim.Adam(model.parameters(), lr=0.001)\n",
    "            \n",
    "            # Training loop (simplified)\n",
    "            model.train()\n",
    "            for epoch in range(30):  # Reduced epochs for demo\n",
    "                for X_batch, y_batch in train_loader:\n",
    "                    optimizer.zero_grad()\n",
    "                    outputs = model(X_batch.to(device))\n",
    "                    loss = criterion(outputs, y_batch.to(device))\n",
    "                    loss.backward()\n",
    "                    optimizer.step()\n",
    "            \n",
    "            # Evaluation\n",
    "            model.eval()\n",
    "            all_preds, all_actuals = [], []\n",
    "            with torch.no_grad():\n",
    "                for X_test, y_test in test_loader:\n",
    "                    preds = model(X_test.to(device)).cpu().numpy()\n",
    "                    \n",
    "                    # Inverse transform predictions\n",
    "                    dummy = np.zeros((len(preds), 5))\n",
    "                    preds_denorm = scaler.inverse_transform(\n",
    "                        np.hstack([preds.reshape(-1,1), dummy])\n",
    "                    )[:, 0]\n",
    "                    \n",
    "                    # Inverse transform actuals\n",
    "                    actuals = y_test.numpy()\n",
    "                    actuals_denorm = scaler.inverse_transform(\n",
    "                        np.hstack([actuals.reshape(-1,1), dummy])\n",
    "                    )[:, 0]\n",
    "                    \n",
    "                    all_preds.extend(preds_denorm)\n",
    "                    all_actuals.extend(actuals_denorm)\n",
    "            \n",
    "            # Store results\n",
    "            for pred, actual in zip(all_preds, all_actuals):\n",
    "                results.append({\n",
    "                    'len_train': len(X_train),\n",
    "                    'len_val': len(X_val),\n",
    "                    'len_test': len(X_test),\n",
    "                    'seq_length': seq_length,\n",
    "                    'batch_size': batch_size,\n",
    "                    'preds': pred,\n",
    "                    'actual': actual,\n",
    "                    'error': actual - pred\n",
    "                })\n",
    "    \n",
    "    return pd.DataFrame(results)\n",
    "\n",
    "# ======================\n",
    "# Usage\n",
    "# ======================\n",
    "if __name__ == \"__main__\":\n",
    "    device = torch.device(\"cuda\" if torch.cuda.is_available() else \"cpu\")\n",
    "    criterion = CoshLoss()\n",
    "    \n",
    "    results_df = main_grid_search()\n",
    "    \n",
    "    # Save results\n",
    "    results_df.to_csv(\"grid_search_results.csv\", index=False)\n",
    "    \n",
    "    # Display summary\n",
    "    print(\"\\nGrid Search Results Summary:\")\n",
    "    print(results_df.groupby(['seq_length', 'batch_size']).agg({\n",
    "        'error': 'mean',\n",
    "        'len_train': 'first',\n",
    "        'len_val': 'first',\n",
    "        'len_test': 'first'\n",
    "    }).reset_index())"
   ]
  },
  {
   "cell_type": "code",
   "execution_count": 57,
   "id": "78965b9b-fb9b-43c5-9fc1-9cecf7256810",
   "metadata": {},
   "outputs": [
    {
     "name": "stdout",
     "output_type": "stream",
     "text": [
      "Model saved to models/bitcoin_model.pth\n"
     ]
    }
   ],
   "source": [
    "import torch\n",
    "\n",
    "# Assume 'model' is your trained PyTorch model\n",
    "model_path = \"models/bitcoin_model.pth\"\n",
    "\n",
    "torch.save(model.state_dict(), model_path)  # Save model weights\n",
    "print(f\"Model saved to {model_path}\")\n"
   ]
  },
  {
   "cell_type": "code",
   "execution_count": 58,
   "id": "16452ac8-06dc-430b-ae60-5a8957d287c9",
   "metadata": {},
   "outputs": [
    {
     "data": {
      "text/plain": [
       "'/Users/armand/Desktop/ML/Pytorch/TimeSeries'"
      ]
     },
     "execution_count": 58,
     "metadata": {},
     "output_type": "execute_result"
    }
   ],
   "source": [
    "import os\n",
    "os.getcwd()"
   ]
  },
  {
   "cell_type": "code",
   "execution_count": null,
   "id": "bc00c35b-1666-4f98-b219-2742bbb86bc6",
   "metadata": {},
   "outputs": [],
   "source": []
  }
 ],
 "metadata": {
  "kernelspec": {
   "display_name": "Python 3 (ipykernel)",
   "language": "python",
   "name": "python3"
  },
  "language_info": {
   "codemirror_mode": {
    "name": "ipython",
    "version": 3
   },
   "file_extension": ".py",
   "mimetype": "text/x-python",
   "name": "python",
   "nbconvert_exporter": "python",
   "pygments_lexer": "ipython3",
   "version": "3.11.5"
  }
 },
 "nbformat": 4,
 "nbformat_minor": 5
}
